{
 "cells": [
  {
   "cell_type": "code",
   "execution_count": 6,
   "id": "a8b9ac49",
   "metadata": {},
   "outputs": [
    {
     "name": "stderr",
     "output_type": "stream",
     "text": [
      "Using cache found in C:\\Users\\devan/.cache\\torch\\hub\\ultralytics_yolov5_master\n",
      "YOLOv5  2024-6-10 Python-3.11.3 torch-2.2.1+cpu CPU\n",
      "\n",
      "Fusing layers... \n",
      "YOLOv5s summary: 213 layers, 7225885 parameters, 0 gradients, 16.4 GFLOPs\n",
      "Adding AutoShape... \n"
     ]
    },
    {
     "name": "stdout",
     "output_type": "stream",
     "text": [
      "People are in the room!!\n"
     ]
    }
   ],
   "source": [
    "import cv2\n",
    "import torch\n",
    "from PIL import Image\n",
    "import numpy as np\n",
    "\n",
    "# Load the YOLOv5 model\n",
    "model = torch.hub.load('ultralytics/yolov5', 'yolov5s', source='github')\n",
    "\n",
    "def detect_people_in_video(video_path):\n",
    "    cap = cv2.VideoCapture(video_path)\n",
    "    \n",
    "    max_people_count = 0  # Initialize the maximum people count\n",
    "    \n",
    "    while cap.isOpened():\n",
    "        ret, frame = cap.read()\n",
    "        if not ret:\n",
    "            break\n",
    "        \n",
    "        # Convert the frame to an Image object\n",
    "        img = Image.fromarray(cv2.cvtColor(frame, cv2.COLOR_BGR2RGB))\n",
    "        \n",
    "        # Get model predictions\n",
    "        results = model(img)\n",
    "        \n",
    "        # Filter for person class (class 0 in COCO dataset)\n",
    "        person_results = results.pandas().xyxy[0]\n",
    "        person_results = person_results[person_results['class'] == 0]\n",
    "        \n",
    "        # Calculate the number of people in the frame\n",
    "        num_people = len(person_results)\n",
    "        \n",
    "        # Update the maximum people count\n",
    "        if num_people > max_people_count:\n",
    "            max_people_count = num_people\n",
    "    \n",
    "    cap.release()  # Release the video capture object\n",
    "    \n",
    "    # Output the maximum number of people detected\n",
    "    if max_people_count > 0:\n",
    "        print(\"People are in the room!!\")\n",
    "    else:\n",
    "        print(\"No people detected in the room.\")\n",
    "\n",
    "# Example usage\n",
    "video_path = '5799414-hd_1080_1920_25fps.mp4'\n",
    "detect_people_in_video(video_path)\n"
   ]
  },
  {
   "cell_type": "code",
   "execution_count": 1,
   "id": "a1e6bcfc",
   "metadata": {
    "scrolled": false
   },
   "outputs": [
    {
     "name": "stderr",
     "output_type": "stream",
     "text": [
      "Using cache found in C:\\Users\\devan/.cache\\torch\\hub\\ultralytics_yolov5_master\n",
      "YOLOv5  2024-6-10 Python-3.11.3 torch-2.2.1+cpu CPU\n",
      "\n",
      "Fusing layers... \n",
      "YOLOv5s summary: 213 layers, 7225885 parameters, 0 gradients, 16.4 GFLOPs\n",
      "Adding AutoShape... \n"
     ]
    },
    {
     "name": "stdout",
     "output_type": "stream",
     "text": [
      "People are in the room!!\n"
     ]
    }
   ],
   "source": [
    "import cv2\n",
    "import torch\n",
    "from PIL import Image\n",
    "import numpy as np\n",
    "\n",
    "# Load the YOLOv5 model\n",
    "model = torch.hub.load('ultralytics/yolov5', 'yolov5s', source='github')\n",
    "\n",
    "def detect_people_in_video(video_path):\n",
    "    cap = cv2.VideoCapture(video_path)\n",
    "    \n",
    "    max_people_count = 0  # Initialize the maximum people count\n",
    "    \n",
    "    while cap.isOpened():\n",
    "        ret, frame = cap.read()\n",
    "        if not ret:\n",
    "            break\n",
    "        \n",
    "        # Convert the frame to an Image object\n",
    "        img = Image.fromarray(cv2.cvtColor(frame, cv2.COLOR_BGR2RGB))\n",
    "        \n",
    "        # Get model predictions\n",
    "        results = model(img)\n",
    "        \n",
    "        # Filter for person class (class 0 in COCO dataset)\n",
    "        person_results = results.pandas().xyxy[0]\n",
    "        person_results = person_results[person_results['class'] == 0]\n",
    "        \n",
    "        # Draw bounding boxes and count people\n",
    "        num_people = len(person_results)\n",
    "        \n",
    "        # Update the maximum people count\n",
    "        if num_people > max_people_count:\n",
    "            max_people_count = num_people\n",
    "        \n",
    "        for _, row in person_results.iterrows():\n",
    "            x1, y1, x2, y2, confidence = int(row['xmin']), int(row['ymin']), int(row['xmax']), int(row['ymax']), row['confidence']\n",
    "            cv2.rectangle(frame, (x1, y1), (x2, y2), (0, 255, 0), 2)\n",
    "            cv2.putText(frame, f'{confidence:.2f}', (x1, y1 - 10), cv2.FONT_HERSHEY_SIMPLEX, 0.9, (36, 255, 12), 2)\n",
    "        \n",
    "        # Display the number of people detected in the frame\n",
    "        cv2.putText(frame, f'People detected: {num_people}', (10, 30), cv2.FONT_HERSHEY_SIMPLEX, 1, (255, 0, 0), 2)\n",
    "        \n",
    "        # Show the frame\n",
    "        cv2.imshow('Video', frame)\n",
    "        \n",
    "        if cv2.waitKey(1) & 0xFF == ord('q'):\n",
    "            break\n",
    "    \n",
    "    cap.release()\n",
    "    cv2.destroyAllWindows()\n",
    "    \n",
    "    # Output the maximum number of people detected\n",
    "    #print(f'Maximum number of people detected in any frame: {max_people_count}')\n",
    "    if max_people_count > 0:\n",
    "        print(\"People are in the room!!\")\n",
    "    else:\n",
    "        print(\"No people detected in the room.\")\n",
    "\n",
    "# Example usage\n",
    "video_path = '5799414-hd_1080_1920_25fps.mp4'\n",
    "detect_people_in_video(video_path)\n"
   ]
  }
 ],
 "metadata": {
  "kernelspec": {
   "display_name": "Python 3 (ipykernel)",
   "language": "python",
   "name": "python3"
  },
  "language_info": {
   "codemirror_mode": {
    "name": "ipython",
    "version": 3
   },
   "file_extension": ".py",
   "mimetype": "text/x-python",
   "name": "python",
   "nbconvert_exporter": "python",
   "pygments_lexer": "ipython3",
   "version": "3.11.3"
  }
 },
 "nbformat": 4,
 "nbformat_minor": 5
}
