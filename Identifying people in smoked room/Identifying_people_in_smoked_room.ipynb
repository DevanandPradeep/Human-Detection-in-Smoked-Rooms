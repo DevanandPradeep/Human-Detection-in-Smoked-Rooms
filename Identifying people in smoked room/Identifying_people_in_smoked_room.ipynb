{
 "cells": [
  {
   "cell_type": "markdown",
   "id": "ffe02cae",
   "metadata": {},
   "source": [
    "# Identifying people in smoked room"
   ]
  },
  {
   "cell_type": "markdown",
   "id": "08f915f1",
   "metadata": {},
   "source": [
    "### Imports :"
   ]
  },
  {
   "cell_type": "code",
   "execution_count": 18,
   "id": "dab72da9",
   "metadata": {},
   "outputs": [],
   "source": [
    "import torch\n",
    "from PIL import Image\n",
    "import matplotlib.pyplot as plt\n",
    "import matplotlib.patches as patches\n",
    "import os\n",
    "import random\n",
    "from IPython.display import display"
   ]
  },
  {
   "cell_type": "markdown",
   "id": "9ffaa7b9",
   "metadata": {},
   "source": [
    "### Loading YOLOv5 Model :"
   ]
  },
  {
   "cell_type": "code",
   "execution_count": 19,
   "id": "64683380",
   "metadata": {},
   "outputs": [
    {
     "name": "stderr",
     "output_type": "stream",
     "text": [
      "Using cache found in C:\\Users\\devan/.cache\\torch\\hub\\ultralytics_yolov5_master\n",
      "YOLOv5  2024-6-10 Python-3.11.3 torch-2.2.1+cpu CPU\n",
      "\n",
      "Fusing layers... \n",
      "YOLOv5s summary: 213 layers, 7225885 parameters, 0 gradients, 16.4 GFLOPs\n",
      "Adding AutoShape... \n"
     ]
    }
   ],
   "source": [
    "model = torch.hub.load('ultralytics/yolov5','yolov5s',source='github')"
   ]
  },
  {
   "cell_type": "markdown",
   "id": "3bbb65d8",
   "metadata": {},
   "source": [
    "### Detecting People :"
   ]
  },
  {
   "cell_type": "code",
   "execution_count": 31,
   "id": "2f3e48cb",
   "metadata": {},
   "outputs": [],
   "source": [
    "def detect_people(image_path):\n",
    "    # Load image\n",
    "    img = Image.open(image_path)\n",
    "    \n",
    "    results = model(img)\n",
    "    \n",
    "    # Applying model(class 0 in COCO dataset is person)\n",
    "    person_results = results.pandas().xyxy[0]\n",
    "    person_results = person_results[person_results['class']== 0]\n",
    "    \n",
    "    return person_results\n",
    "\n",
    "def process_images_in_folder(folder_path):\n",
    "\n",
    "    image_files = [f for f in os.listdir(folder_path) if f.lower().endswith(('png','jpg','jpeg'))]\n",
    "    \n",
    "    # Creating dictionary to store results\n",
    "    results_dict = {}\n",
    "    \n",
    "    # Process each image and store results\n",
    "    for image_file in image_files:\n",
    "        image_path = os.path.join(folder_path, image_file)\n",
    "        person_results = detect_people(image_path)\n",
    "        results_dict[image_file] = person_results\n",
    "    \n",
    "    # Select a random image\n",
    "    random_image_file = random.choice(image_files)\n",
    "    random_image_path = os.path.join(folder_path, random_image_file)\n",
    "    random_image_results = results_dict[random_image_file]\n",
    "    \n",
    "    # Display the random image with bounding boxes\n",
    "    img = Image.open(random_image_path)\n",
    "    fig, ax = plt.subplots(1, figsize=(12, 9))\n",
    "    ax.imshow(img)\n",
    "    \n",
    "    # Output the number of people detected in the random image\n",
    "    num_people = len(random_image_results)\n",
    "    print(f\"{num_people} person(s) detected in the image:\")\n",
    "    display(img)  # Display the image"
   ]
  },
  {
   "cell_type": "code",
   "execution_count": null,
   "id": "09020b4c",
   "metadata": {},
   "outputs": [],
   "source": [
    "folder_path = 'fire' \n",
    "process_images_in_folder(folder_path)"
   ]
  },
  {
   "cell_type": "code",
   "execution_count": 35,
   "id": "5aebfc06",
   "metadata": {},
   "outputs": [],
   "source": [
    "def detect_people_conf_scores(image_path):\n",
    "    # Load image\n",
    "    img = Image.open(image_path)\n",
    "    \n",
    "    results = model(img)\n",
    "    \n",
    "    # Applying model(class 0 in COCO dataset is person)\n",
    "    person_results = results.pandas().xyxy[0]\n",
    "    person_results = person_results[person_results['class']== 0]\n",
    "    \n",
    "    # Check if any people were detected\n",
    "    if person_results.empty:\n",
    "        # print(f\"No people detected in the image '{image_path}'\")\n",
    "        return None\n",
    "    else:\n",
    "        num_people = len(person_results)\n",
    "        print(f\"{num_people} person(s) detected in the image '{image_path}'\")\n",
    "        \n",
    "        # confidence scores\n",
    "        confidence_scores = person_results['confidence'].tolist()\n",
    "        print(f\"Confidence scores: {confidence_scores}\")\n",
    "        \n",
    "        return person_results\n",
    "\n",
    "# Define a function to process all images in a folder\n",
    "def detect_people_in_folder(folder_path):\n",
    "    # Get list of image files in the folder\n",
    "    image_files = [f for f in os.listdir(folder_path) if f.lower().endswith(('png', 'jpg', 'jpeg'))]\n",
    "    \n",
    "    # Process each image and detect people\n",
    "    for image_file in image_files:\n",
    "        image_path = os.path.join(folder_path, image_file)\n",
    "        detect_people_conf_scores(image_path)"
   ]
  },
  {
   "cell_type": "code",
   "execution_count": 36,
   "id": "7b8c515b",
   "metadata": {},
   "outputs": [
    {
     "name": "stdout",
     "output_type": "stream",
     "text": [
      "2 person(s) detected in the image 'fire\\fire_image_1367.jpg'\n",
      "Confidence scores: [0.3456959128379822, 0.3343077301979065]\n",
      "1 person(s) detected in the image 'fire\\fire_image_1384.jpg'\n",
      "Confidence scores: [0.7645162343978882]\n",
      "1 person(s) detected in the image 'fire\\fire_image_1561.jpg'\n",
      "Confidence scores: [0.89545077085495]\n",
      "1 person(s) detected in the image 'fire\\fire_image_1757.jpg'\n",
      "Confidence scores: [0.29820799827575684]\n",
      "1 person(s) detected in the image 'fire\\fire_image_1761.jpg'\n",
      "Confidence scores: [0.29342398047447205]\n",
      "1 person(s) detected in the image 'fire\\fire_image_1795.jpg'\n",
      "Confidence scores: [0.29603660106658936]\n",
      "1 person(s) detected in the image 'fire\\fire_image_1798.jpg'\n",
      "Confidence scores: [0.31805142760276794]\n",
      "1 person(s) detected in the image 'fire\\fire_image_1874.jpg'\n",
      "Confidence scores: [0.629384458065033]\n",
      "3 person(s) detected in the image 'fire\\fire_image_1934.jpg'\n",
      "Confidence scores: [0.5118539333343506, 0.39896222949028015, 0.28275418281555176]\n",
      "2 person(s) detected in the image 'fire\\fire_image_1937.jpg'\n",
      "Confidence scores: [0.5575768351554871, 0.511819064617157]\n",
      "2 person(s) detected in the image 'fire\\fire_image_199.jpg'\n",
      "Confidence scores: [0.7891072630882263, 0.5023396611213684]\n",
      "1 person(s) detected in the image 'fire\\fire_image_2031.jpg'\n",
      "Confidence scores: [0.6594961881637573]\n",
      "1 person(s) detected in the image 'fire\\fire_image_2090.jpg'\n",
      "Confidence scores: [0.30209171772003174]\n",
      "1 person(s) detected in the image 'fire\\fire_image_2201.jpg'\n",
      "Confidence scores: [0.5862055420875549]\n",
      "5 person(s) detected in the image 'fire\\fire_image_2236.jpg'\n",
      "Confidence scores: [0.712243914604187, 0.4952215850353241, 0.33879947662353516, 0.31198254227638245, 0.2921008765697479]\n",
      "2 person(s) detected in the image 'fire\\fire_image_254.jpg'\n",
      "Confidence scores: [0.41327178478240967, 0.3697768449783325]\n",
      "1 person(s) detected in the image 'fire\\fire_image_261.jpg'\n",
      "Confidence scores: [0.3736986517906189]\n",
      "1 person(s) detected in the image 'fire\\fire_image_273.jpg'\n",
      "Confidence scores: [0.2640691101551056]\n",
      "4 person(s) detected in the image 'fire\\fire_image_518.jpg'\n",
      "Confidence scores: [0.8707747459411621, 0.8112255334854126, 0.7475500106811523, 0.66324383020401]\n",
      "1 person(s) detected in the image 'fire\\fire_image_54.jpg'\n",
      "Confidence scores: [0.7248273491859436]\n",
      "1 person(s) detected in the image 'fire\\fire_image_730.jpg'\n",
      "Confidence scores: [0.3928602635860443]\n",
      "7 person(s) detected in the image 'fire\\fire_image_84.jpg'\n",
      "Confidence scores: [0.7972231507301331, 0.7463192939758301, 0.5872519016265869, 0.5326248407363892, 0.4878346920013428, 0.4851527512073517, 0.26510560512542725]\n",
      "2 person(s) detected in the image 'fire\\fire_image_9.jpg'\n",
      "Confidence scores: [0.8521137833595276, 0.42480888962745667]\n",
      "4 person(s) detected in the image 'fire\\fire_image_99.jpg'\n",
      "Confidence scores: [0.5532240867614746, 0.40752092003822327, 0.33694642782211304, 0.30538132786750793]\n"
     ]
    }
   ],
   "source": [
    "folder_path = 'fire'  \n",
    "detect_people_in_folder(folder_path)"
   ]
  },
  {
   "cell_type": "code",
   "execution_count": null,
   "id": "392b9253",
   "metadata": {},
   "outputs": [],
   "source": []
  }
 ],
 "metadata": {
  "kernelspec": {
   "display_name": "Python 3 (ipykernel)",
   "language": "python",
   "name": "python3"
  },
  "language_info": {
   "codemirror_mode": {
    "name": "ipython",
    "version": 3
   },
   "file_extension": ".py",
   "mimetype": "text/x-python",
   "name": "python",
   "nbconvert_exporter": "python",
   "pygments_lexer": "ipython3",
   "version": "3.11.3"
  }
 },
 "nbformat": 4,
 "nbformat_minor": 5
}
